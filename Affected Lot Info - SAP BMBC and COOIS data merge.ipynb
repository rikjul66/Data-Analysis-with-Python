{
 "cells": [
  {
   "cell_type": "markdown",
   "id": "635fd650",
   "metadata": {},
   "source": [
    "## Import the required libraries"
   ]
  },
  {
   "cell_type": "code",
   "execution_count": 1,
   "id": "afb3aafc",
   "metadata": {},
   "outputs": [],
   "source": [
    "#Import Libraries\n",
    "import pandas as pd\n",
    "import numpy as np\n",
    "import os\n",
    "import matplotlib.pyplot as plt\n",
    "import seaborn as sns\n",
    "import chardet\n",
    "import datetime\n",
    "from dateutil.relativedelta import relativedelta\n",
    "from datetime import timedelta\n",
    "from IPython.core.display import HTML\n",
    "from datetime import date"
   ]
  },
  {
   "cell_type": "markdown",
   "id": "a7dc6e1d",
   "metadata": {},
   "source": [
    "## Read the list of files in directory"
   ]
  },
  {
   "cell_type": "code",
   "execution_count": 3,
   "id": "4c9dde23",
   "metadata": {
    "scrolled": true
   },
   "outputs": [
    {
     "name": "stdout",
     "output_type": "stream",
     "text": [
      "Files and directories in ' C:/Users/rika.pajrin/OneDrive - shl-group.com/Documents/QA_Complaint/Complaint Registration/Affected Lot Information/Affected Lot 2023/ ' :\n",
      "['BMBC_20210101-20210401.XLSX', 'BMBC_20210402-20210630.XLSX', 'BMBC_20210701-20210930.XLSX', 'BMBC_20211001-20211231.XLSX', 'BMBC_20220101-20220331.XLSX', 'BMBC_20220401-20220630.XLSX', 'BMBC_20220701-20220930.XLSX', 'BMBC_20221001-20221231.XLSX', 'BMBC_20230101-20230331.XLSX', 'COOIS_20210101-20210331.XLSX', 'COOIS_20210401-20210630.XLSX', 'COOIS_20210701-20210930.XLSX', 'COOIS_20211001-20211231.XLSX', 'COOIS_20220101-20220331.XLSX', 'COOIS_20220401-20220630.XLSX', 'COOIS_20220701-20220930.XLSX', 'COOIS_20221001-20221231.XLSX', 'COOIS_20230101-20230331.XLSX']\n"
     ]
    }
   ],
   "source": [
    "path = \"C:/Users/rika.pajrin/OneDrive - shl-group.com/Documents/QA_Complaint/Complaint Registration/Affected Lot Information/Affected Lot 2023/\"\n",
    "files = os.listdir(path)\n",
    "print(\"Files and directories in '\", path, \"' :\")\n",
    "\n",
    "print(files)"
   ]
  },
  {
   "cell_type": "markdown",
   "id": "35703eb9",
   "metadata": {},
   "source": [
    "## Separate the BMBC files and COOS files"
   ]
  },
  {
   "cell_type": "code",
   "execution_count": 4,
   "id": "21d11bb6",
   "metadata": {},
   "outputs": [],
   "source": [
    "files_bmbc = [f for f in files if f[:4] == 'BMBC']\n",
    "files_coois = [f for f in files if f[:5] == 'COOIS']"
   ]
  },
  {
   "cell_type": "markdown",
   "id": "a0262548",
   "metadata": {},
   "source": [
    "## Data manipulation for BMBC files"
   ]
  },
  {
   "cell_type": "code",
   "execution_count": 5,
   "id": "c0c04882",
   "metadata": {},
   "outputs": [],
   "source": [
    "## append or concat all the BMBC files into one BMBC dataframe\n",
    "df_bmbc = pd.concat([pd.read_excel(path + file) for file in files_bmbc], ignore_index=True)"
   ]
  },
  {
   "cell_type": "code",
   "execution_count": 6,
   "id": "c8beb896",
   "metadata": {},
   "outputs": [],
   "source": [
    "## convert the format of column SLED/BBD to not showing the timestamp\n",
    "df_bmbc['SLED/BBD'] = pd.to_datetime(df_bmbc['SLED/BBD'], errors = 'coerce')"
   ]
  },
  {
   "cell_type": "code",
   "execution_count": 7,
   "id": "c746b93e",
   "metadata": {},
   "outputs": [],
   "source": [
    "## convert the format of the date to follow the trackwise format\n",
    "for column in df_bmbc.columns:\n",
    "    if df_bmbc[column].dtype == 'datetime64[ns]':\n",
    "        df_bmbc[column] = pd.to_datetime(df_bmbc[column]).dt.strftime('%m/%d/%Y')\n",
    "        \n",
    "#df_bmbc.info()"
   ]
  },
  {
   "cell_type": "code",
   "execution_count": 31,
   "id": "3d087c45",
   "metadata": {},
   "outputs": [],
   "source": [
    "## select the required data column of BMBC\n",
    "df_bmbc_required = df_bmbc[['Batch','Material Number','Material type','Date of Manuf.','SLED/BBD']]\n",
    "#df_bmbc_required"
   ]
  },
  {
   "cell_type": "markdown",
   "id": "d420e401",
   "metadata": {},
   "source": [
    "## Data manipulation for COOIS files"
   ]
  },
  {
   "cell_type": "code",
   "execution_count": 9,
   "id": "199181fc",
   "metadata": {},
   "outputs": [],
   "source": [
    "## append or concat all the coois files\n",
    "df_coois = pd.concat([pd.read_excel(path + file) for file in files_coois], ignore_index=True)\n",
    "\n",
    "#df_coois.info()"
   ]
  },
  {
   "cell_type": "code",
   "execution_count": 16,
   "id": "2b462856",
   "metadata": {},
   "outputs": [],
   "source": [
    "## remove row if there is null in \"Main order number\" column\n",
    "df_coois2 = df_coois.dropna(axis=0, subset=['Main Order Number'])"
   ]
  },
  {
   "cell_type": "code",
   "execution_count": 20,
   "id": "49df9874",
   "metadata": {},
   "outputs": [],
   "source": [
    "## select the required data column if COOIS\n",
    "df_coois_required = df_coois2[['Batch','Material','Material description','Order quantity (GMEIN)','Delivered quantity (GMEIN)']]"
   ]
  },
  {
   "cell_type": "code",
   "execution_count": 28,
   "id": "d522905f",
   "metadata": {
    "scrolled": true
   },
   "outputs": [],
   "source": [
    "## reset the index, and delete the index column\n",
    "df_coois_required = df_coois_required.reset_index()\n",
    "del df_coois_required['index']\n",
    "\n",
    "#df_coois_required.tail(5)"
   ]
  },
  {
   "cell_type": "code",
   "execution_count": 33,
   "id": "2431c9f5",
   "metadata": {},
   "outputs": [],
   "source": [
    "## do vlookup or in pandas way of \"inner join\", get only the data that consist in both BMBC and COOIS based on batch number\n",
    "inner_join = pd.merge(df_bmbc_required, \n",
    "                      df_coois_required, \n",
    "                      on ='Batch', \n",
    "                      how ='inner')"
   ]
  },
  {
   "cell_type": "code",
   "execution_count": 43,
   "id": "56e616fb",
   "metadata": {
    "scrolled": true
   },
   "outputs": [],
   "source": [
    "#remove the ZSAM material type because it is stock material in warehouse\n",
    "inner_join_final = inner_join.loc[(inner_join['Material type'] != 'ZSAM')]\n",
    "\n",
    "#inner_join_final.head(5)"
   ]
  },
  {
   "cell_type": "code",
   "execution_count": 45,
   "id": "f8485adf",
   "metadata": {},
   "outputs": [],
   "source": [
    "## select the required data for the affected lot excel data \n",
    "affected_lot_data = inner_join_final[['Batch','Material Number','Material description','Date of Manuf.','SLED/BBD','Order quantity (GMEIN)','Delivered quantity (GMEIN)']]"
   ]
  },
  {
   "cell_type": "code",
   "execution_count": 53,
   "id": "2466cf56",
   "metadata": {},
   "outputs": [
    {
     "data": {
      "text/html": [
       "<div>\n",
       "<style scoped>\n",
       "    .dataframe tbody tr th:only-of-type {\n",
       "        vertical-align: middle;\n",
       "    }\n",
       "\n",
       "    .dataframe tbody tr th {\n",
       "        vertical-align: top;\n",
       "    }\n",
       "\n",
       "    .dataframe thead th {\n",
       "        text-align: right;\n",
       "    }\n",
       "</style>\n",
       "<table border=\"1\" class=\"dataframe\">\n",
       "  <thead>\n",
       "    <tr style=\"text-align: right;\">\n",
       "      <th></th>\n",
       "      <th>Batch</th>\n",
       "      <th>Material Number</th>\n",
       "      <th>Material description</th>\n",
       "      <th>Date of Manuf.</th>\n",
       "      <th>SLED/BBD</th>\n",
       "      <th>Order quantity (GMEIN)</th>\n",
       "      <th>Delivered quantity (GMEIN)</th>\n",
       "    </tr>\n",
       "  </thead>\n",
       "  <tbody>\n",
       "    <tr>\n",
       "      <th>5396</th>\n",
       "      <td>B000102469</td>\n",
       "      <td>100000017-00</td>\n",
       "      <td>Slip-On Sleeve,DAI Push Click 1.6</td>\n",
       "      <td>02/25/2021</td>\n",
       "      <td>02/24/2027</td>\n",
       "      <td>42240</td>\n",
       "      <td>42240</td>\n",
       "    </tr>\n",
       "    <tr>\n",
       "      <th>10891</th>\n",
       "      <td>B000098279</td>\n",
       "      <td>100000017-00</td>\n",
       "      <td>Slip-On Sleeve,DAI Push Click 1.6</td>\n",
       "      <td>01/11/2021</td>\n",
       "      <td>01/10/2027</td>\n",
       "      <td>10</td>\n",
       "      <td>10</td>\n",
       "    </tr>\n",
       "    <tr>\n",
       "      <th>12609</th>\n",
       "      <td>B000115760</td>\n",
       "      <td>100000017-00</td>\n",
       "      <td>Slip-On Sleeve,DAI Push Click 1.6</td>\n",
       "      <td>06/28/2021</td>\n",
       "      <td>06/27/2027</td>\n",
       "      <td>95</td>\n",
       "      <td>95</td>\n",
       "    </tr>\n",
       "    <tr>\n",
       "      <th>15859</th>\n",
       "      <td>B000112675</td>\n",
       "      <td>100000017-00</td>\n",
       "      <td>Slip-On Sleeve,DAI Push Click 1.6</td>\n",
       "      <td>06/07/2021</td>\n",
       "      <td>06/06/2027</td>\n",
       "      <td>42240</td>\n",
       "      <td>42240</td>\n",
       "    </tr>\n",
       "    <tr>\n",
       "      <th>18964</th>\n",
       "      <td>B000111062</td>\n",
       "      <td>100000017-00</td>\n",
       "      <td>Slip-On Sleeve,DAI Push Click 1.6</td>\n",
       "      <td>05/17/2021</td>\n",
       "      <td>05/16/2027</td>\n",
       "      <td>42240</td>\n",
       "      <td>42240</td>\n",
       "    </tr>\n",
       "  </tbody>\n",
       "</table>\n",
       "</div>"
      ],
      "text/plain": [
       "            Batch Material Number               Material description  \\\n",
       "5396   B000102469    100000017-00  Slip-On Sleeve,DAI Push Click 1.6   \n",
       "10891  B000098279    100000017-00  Slip-On Sleeve,DAI Push Click 1.6   \n",
       "12609  B000115760    100000017-00  Slip-On Sleeve,DAI Push Click 1.6   \n",
       "15859  B000112675    100000017-00  Slip-On Sleeve,DAI Push Click 1.6   \n",
       "18964  B000111062    100000017-00  Slip-On Sleeve,DAI Push Click 1.6   \n",
       "\n",
       "      Date of Manuf.    SLED/BBD  Order quantity (GMEIN)  \\\n",
       "5396      02/25/2021  02/24/2027                   42240   \n",
       "10891     01/11/2021  01/10/2027                      10   \n",
       "12609     06/28/2021  06/27/2027                      95   \n",
       "15859     06/07/2021  06/06/2027                   42240   \n",
       "18964     05/17/2021  05/16/2027                   42240   \n",
       "\n",
       "       Delivered quantity (GMEIN)  \n",
       "5396                        42240  \n",
       "10891                          10  \n",
       "12609                          95  \n",
       "15859                       42240  \n",
       "18964                       42240  "
      ]
     },
     "execution_count": 53,
     "metadata": {},
     "output_type": "execute_result"
    }
   ],
   "source": [
    "## conduct validation to check the data based on the material number\n",
    "data_validation = affected_lot_data.loc[(affected_lot_data['Material Number'] == '100000017-00')]\n",
    "\n",
    "data_validation.head(5)"
   ]
  },
  {
   "cell_type": "code",
   "execution_count": 47,
   "id": "a8c9f2a4",
   "metadata": {},
   "outputs": [],
   "source": [
    "## export the data to excel of affected lot information\n",
    "affected_lot_data.to_excel('Affected Lot information 20210101~20230331.xlsx',index=False)"
   ]
  }
 ],
 "metadata": {
  "kernelspec": {
   "display_name": "Python 3 (ipykernel)",
   "language": "python",
   "name": "python3"
  },
  "language_info": {
   "codemirror_mode": {
    "name": "ipython",
    "version": 3
   },
   "file_extension": ".py",
   "mimetype": "text/x-python",
   "name": "python",
   "nbconvert_exporter": "python",
   "pygments_lexer": "ipython3",
   "version": "3.7.12"
  }
 },
 "nbformat": 4,
 "nbformat_minor": 5
}
